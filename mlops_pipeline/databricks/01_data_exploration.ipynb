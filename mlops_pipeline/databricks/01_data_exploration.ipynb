{
  "cells": [
    {
      "cell_type": "markdown",
      "metadata": {},
      "source": [
        "# 🏥 Liver Disease Prediction - Data Exploration\n",
        "## Databricks Community Edition\n",
        "\n",
        "This notebook demonstrates comprehensive data exploration and analysis for liver disease prediction using HCV data.\n",
        "\n",
        "### Features:\n",
        "- Data loading and validation\n",
        "- Exploratory Data Analysis (EDA)\n",
        "- Statistical analysis\n",
        "- Data quality assessment\n",
        "- Interactive visualizations\n"
      ]
    },
    {
      "cell_type": "code",
      "execution_count": null,
      "metadata": {},
      "outputs": [],
      "source": [
        "# Import required libraries\n",
        "import pandas as pd\n",
        "import numpy as np\n",
        "import matplotlib.pyplot as plt\n",
        "import seaborn as sns\n",
        "import plotly.express as px\n",
        "import plotly.graph_objects as go\n",
        "from plotly.subplots import make_subplots\n",
        "import warnings\n",
        "warnings.filterwarnings('ignore')\n",
        "\n",
        "# Set display options\n",
        "pd.set_option('display.max_columns', None)\n",
        "pd.set_option('display.width', None)\n",
        "\n",
        "print(\"📊 Data Exploration Environment Ready!\")\n"
      ]
    }
  ],
  "metadata": {
    "language_info": {
      "name": "python"
    }
  },
  "nbformat": 4,
  "nbformat_minor": 2
}
